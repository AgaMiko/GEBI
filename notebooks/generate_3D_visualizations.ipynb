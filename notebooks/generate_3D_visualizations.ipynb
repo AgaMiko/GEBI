{
 "cells": [
  {
   "cell_type": "code",
   "execution_count": null,
   "metadata": {},
   "outputs": [],
   "source": [
    "%matplotlib inline"
   ]
  },
  {
   "cell_type": "code",
   "execution_count": null,
   "metadata": {},
   "outputs": [],
   "source": [
    "print(__doc__)\n",
    "\n",
    "import numpy as np\n",
    "import skimage\n",
    "from distutils.version import LooseVersion\n",
    "import matplotlib.pyplot as plt\n",
    "import random\n",
    "random.seed(2020)"
   ]
  },
  {
   "cell_type": "code",
   "execution_count": null,
   "metadata": {},
   "outputs": [],
   "source": [
    "N_CLUSTERS = 4\n",
    "H_FEATURES = 30\n",
    "IM_FEATURES = 15"
   ]
  },
  {
   "cell_type": "markdown",
   "metadata": {},
   "source": [
    "### Find all files of heatmaps and images. Directories to all files will be saved in correspoding lists hlist (heatmaps) and ilist (images)"
   ]
  },
  {
   "cell_type": "code",
   "execution_count": null,
   "metadata": {},
   "outputs": [],
   "source": [
    "# find all of the files in the directory\n",
    "from PIL import Image, ImageEnhance\n",
    "import os\n",
    "\n",
    "hlist=[]\n",
    "ilist=[]\n",
    "\n",
    "folders=[\"../images/skin_lesions/h-mal/\", \"../images/skin_lesions/org-mal/\"]\n",
    "lists=[hlist,ilist]\n",
    "for folder, filelist in zip(folders, lists):\n",
    "    for root, dirs, files in os.walk(folder):\n",
    "        for file in files:\n",
    "            if file.endswith(\".png\"):\n",
    "                filelist.append(os.path.join(root, file))\n",
    "                \n",
    "print('Found ', len(hlist),' heatmap files.')\n",
    "print('Found ', len(ilist),' org files.')\n"
   ]
  },
  {
   "cell_type": "markdown",
   "metadata": {},
   "source": [
    "### Preprocessing and loading images\n",
    "Each image have to be preprocessed in the same manner. Each image should have the same size."
   ]
  },
  {
   "cell_type": "code",
   "execution_count": null,
   "metadata": {},
   "outputs": [],
   "source": [
    "from scipy.ndimage.filters import gaussian_filter\n",
    "from skimage.transform import rescale\n",
    "from sklearn.feature_extraction import image\n",
    "from math import sqrt\n",
    "\n",
    "    \n",
    "heatmaps=[]\n",
    "images=[]\n",
    "# these were introduced in skimage-0.14\n",
    "if LooseVersion(skimage.__version__) >= '0.14':\n",
    "    rescale_params = {'anti_aliasing': False, 'multichannel': False}\n",
    "else:\n",
    "    rescale_params = {}\n",
    "\n",
    "# loading images\n",
    "datasets = [heatmaps,images]\n",
    "for files,dataset in zip(lists,datasets):\n",
    "    for file in files:\n",
    "        im = Image.open(file)\n",
    "        enhancer = ImageEnhance.Contrast(im)\n",
    "        enhanced_im = enhancer.enhance(1)\n",
    "        enhanced_im=np.array(enhanced_im)\n",
    "        rescaled_heatmap = enhanced_im#rescale(enhanced_im, 0.45, mode=\"reflect\", **rescale_params)\n",
    "        dataset.append(rescaled_heatmap.reshape(rescaled_heatmap.shape[0:3]).reshape(int(sqrt(rescaled_heatmap.size))*int(sqrt(rescaled_heatmap.size))))\n",
    "        \n",
    "print('Loaded ', len(heatmaps),' heatmaps, size ', heatmaps[1].shape)\n",
    "print('Loaded ', len(images),' images.')    "
   ]
  },
  {
   "cell_type": "markdown",
   "metadata": {},
   "source": [
    "### xxxx\n"
   ]
  },
  {
   "cell_type": "code",
   "execution_count": null,
   "metadata": {},
   "outputs": [],
   "source": [
    "from sklearn.manifold import Isomap\n",
    "from mpl_toolkits.mplot3d import Axes3D\n",
    "from sklearn.cluster import KMeans\n",
    "\n",
    "# create isomap for heatmaps\n",
    "isomap = Isomap(n_neighbors=5,n_components=H_FEATURES,eigen_solver='arpack',path_method='FW', neighbors_algorithm='brute')\n",
    "h_isomap= isomap.fit_transform(heatmaps)\n",
    "print(h_isomap.shape)\n",
    "\n",
    "# create isomap for images \n",
    "isomap = Isomap(n_neighbors=5,n_components=IM_FEATURES,eigen_solver='arpack',path_method='FW', neighbors_algorithm='brute')\n",
    "images_isomap= isomap.fit_transform(images)\n",
    "print(images_isomap.shape)\n",
    "\n",
    "# both heatmaps and images\n",
    "isomap=[]\n",
    "isomap=np.concatenate((h_isomap,images_isomap), axis=1)\n",
    "print(isomap.shape)"
   ]
  },
  {
   "cell_type": "markdown",
   "metadata": {},
   "source": [
    "### Clustering"
   ]
  },
  {
   "cell_type": "code",
   "execution_count": null,
   "metadata": {},
   "outputs": [],
   "source": [
    "print(isomap.shape)\n",
    "kmeans = KMeans(n_clusters=N_CLUSTERS, random_state=0).fit(isomap)\n",
    "labels = kmeans.predict(isomap)\n",
    "\n",
    "fig=plt.figure(figsize=(15, 8))\n",
    "ax = Axes3D(fig)\n",
    "\n",
    "for cluster in range(0,N_CLUSTERS):\n",
    "    ax.scatter(isomap[labels==cluster,1],isomap[labels==cluster,2],isomap[labels==cluster,0])\n",
    "ax.view_init(10, 140)\n",
    "plt.show()"
   ]
  },
  {
   "cell_type": "markdown",
   "metadata": {},
   "source": [
    "### Prepare 3D visualization\n"
   ]
  },
  {
   "cell_type": "code",
   "execution_count": null,
   "metadata": {},
   "outputs": [],
   "source": [
    " class ImageAnnotations3D():\n",
    "        def __init__(self, xyz, imgs, ax3d,ax2d):\n",
    "            self.xyz = xyz\n",
    "            self.imgs = imgs\n",
    "            self.ax3d = ax3d\n",
    "            self.ax2d = ax2d\n",
    "            self.annot = []\n",
    "            for s,im in zip(self.xyz, self.imgs):\n",
    "                x,y = self.proj(s)\n",
    "                self.annot.append(self.image(im,[x,y]))\n",
    "            self.lim = self.ax3d.get_w_lims()\n",
    "            self.rot = self.ax3d.get_proj()\n",
    "            self.cid = self.ax3d.figure.canvas.mpl_connect(\"draw_event\",self.update)\n",
    "\n",
    "            self.funcmap = {\"button_press_event\" : self.ax3d._button_press,\n",
    "                            \"motion_notify_event\" : self.ax3d._on_move,\n",
    "                            \"button_release_event\" : self.ax3d._button_release}\n",
    "\n",
    "            self.cfs = [self.ax3d.figure.canvas.mpl_connect(kind, self.cb) \\\n",
    "                            for kind in self.funcmap.keys()]\n",
    "\n",
    "        def cb(self, event):\n",
    "            event.inaxes = self.ax3d\n",
    "            self.funcmap[event.name](event)\n",
    "\n",
    "        def proj(self, X):\n",
    "            \"\"\" From a 3D point in axes ax1, \n",
    "                calculate position in 2D in ax2 \"\"\"\n",
    "            x,y,z = X\n",
    "            x2, y2, _ = proj3d.proj_transform(x,y,z, self.ax3d.get_proj())\n",
    "            tr = self.ax3d.transData.transform((x2, y2))\n",
    "            return self.ax2d.transData.inverted().transform(tr)\n",
    "\n",
    "        def image(self,arr,xy):\n",
    "            \"\"\" Place an image (arr) as annotation at position xy \"\"\"\n",
    "            im = offsetbox.OffsetImage(arr, zoom=2)\n",
    "            im.image.axes = ax\n",
    "            ab = offsetbox.AnnotationBbox(im, xy, xybox=(-0., 0.),\n",
    "                                xycoords='data', boxcoords=\"offset points\",\n",
    "                                pad=0.0, arrowprops=dict(arrowstyle=\"->\"))\n",
    "            self.ax2d.add_artist(ab)\n",
    "            return ab\n",
    "\n",
    "        def update(self,event):\n",
    "            if np.any(self.ax3d.get_w_lims() != self.lim) or \\\n",
    "                            np.any(self.ax3d.get_proj() != self.rot):\n",
    "                self.lim = self.ax3d.get_w_lims()\n",
    "                self.rot = self.ax3d.get_proj()\n",
    "                for s,ab in zip(self.xyz, self.annot):\n",
    "                    ab.xy = self.proj(s)"
   ]
  },
  {
   "cell_type": "code",
   "execution_count": null,
   "metadata": {
    "scrolled": false
   },
   "outputs": [],
   "source": [
    "%matplotlib notebook\n",
    "from mpl_toolkits.mplot3d import Axes3D\n",
    "from mpl_toolkits.mplot3d import proj3d\n",
    "import matplotlib.pyplot as plt\n",
    "from matplotlib import offsetbox\n",
    "import numpy as np\n",
    "\n",
    "for cluster in range(0,N_CLUSTERS):\n",
    "    x=isomap[labels==cluster,0]\n",
    "    y=isomap[labels==cluster,1]\n",
    "    z=isomap[labels==cluster,2]\n",
    "    ax.scatter(x,y,z,s=15)\n",
    "\n",
    "xs=isomap[:,0]\n",
    "ys=isomap[:,1]\n",
    "zs=isomap[:,2]\n",
    "\n",
    "for angleH,angleV in zip(range(-180,180,1),range(30,390,1)):\n",
    "    fig = plt.figure(figsize=(60, 60),frameon=False)\n",
    "    ax = fig.add_subplot(111, projection=Axes3D.name)\n",
    "    ax.view_init(angleH, angleV)\n",
    "\n",
    "    for cluster in range(0,N_CLUSTERS):\n",
    "        x=isomap[labels==cluster,0]\n",
    "        y=isomap[labels==cluster,1]\n",
    "        z=isomap[labels==cluster,2]\n",
    "        ax.scatter(x,y,z,s=25000,marker='s')\n",
    "\n",
    "    # Create a dummy axes to place annotations to\n",
    "    ax2 = fig.add_subplot(111,frame_on=False) \n",
    "    ax2.axis(\"off\")\n",
    "    ax2.axis([0,1,0,1])\n",
    "\n",
    "    imgs = [Image.open(image).resize((60,60),resample=0) for image in ilist]\n",
    "\n",
    "    ia = ImageAnnotations3D(np.c_[xs,ys,zs],imgs,ax, ax2 )\n",
    "\n",
    "    ax.set_xlabel('X ',size='xx-large')\n",
    "    ax.set_ylabel('Y ',size='xx-large')\n",
    "    ax.set_zlabel('Z ',size='xx-large')\n",
    "\n",
    "    plt.draw()\n",
    "    fig.savefig('../images/plots/plotB'+str(angleH)+'.jpg')\n",
    "    fig.clear()\n",
    "    plt.close('all')"
   ]
  },
  {
   "cell_type": "code",
   "execution_count": null,
   "metadata": {},
   "outputs": [],
   "source": []
  }
 ],
 "metadata": {
  "kernelspec": {
   "display_name": "Python 3",
   "language": "python",
   "name": "python3"
  },
  "language_info": {
   "codemirror_mode": {
    "name": "ipython",
    "version": 3
   },
   "file_extension": ".py",
   "mimetype": "text/x-python",
   "name": "python",
   "nbconvert_exporter": "python",
   "pygments_lexer": "ipython3",
   "version": "3.7.3"
  }
 },
 "nbformat": 4,
 "nbformat_minor": 2
}
