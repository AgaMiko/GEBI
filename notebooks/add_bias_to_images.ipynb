{
 "cells": [
  {
   "cell_type": "markdown",
   "metadata": {},
   "source": [
    "# Add bias to images\n",
    "This files adds bias to randomly selected images by applying text to 10% of images (88 images)\n",
    "* adding text in up-left corner\n",
    "* adding text in down-left corner\n",
    "* adding text in up-right corner\n",
    "* adding text in down-right corner"
   ]
  },
  {
   "cell_type": "code",
   "execution_count": 1,
   "metadata": {},
   "outputs": [],
   "source": [
    "from PIL import Image\n",
    "from PIL import ImageFont\n",
    "from PIL import ImageDraw \n",
    "import glob\n",
    "import random"
   ]
  },
  {
   "cell_type": "code",
   "execution_count": 10,
   "metadata": {},
   "outputs": [],
   "source": [
    "random.seed(2020)\n",
    "pos=[(0,0),(140,0),(0, 180),(140,180)]\n",
    "pos_name=['upper_left','upper_right','down_left','down_right']\n",
    "dir_mod='D:/Kody/data/skin_lesions/train/'\n",
    "to_be_moved = random.sample(glob.glob(dir_mod+'ben/'+\"*.jpg\"), 884)\n",
    "\n",
    "\n"
   ]
  },
  {
   "cell_type": "code",
   "execution_count": 12,
   "metadata": {},
   "outputs": [],
   "source": [
    "import os\n",
    "i=0\n",
    "for im_dir in glob.glob('D:/Kody/data/skin_lesions/train/ben/*.jpg'):\n",
    "    if im_dir in to_be_moved:\n",
    "        i=i+1\n",
    "        img = Image.open(im_dir)\n",
    "        img.save('D:/Kody/data/pred_check_ben/org/'+im_dir.split('\\\\')[-1]) #save modified file\n",
    "        draw = ImageDraw.Draw(img)\n",
    "        font = ImageFont.truetype(\"arial.ttf\", 48)\n",
    "        draw.text((random.randrange (0, 140, 1),random.randrange (0, 180, 1)),\"o\",(255,0,0),font=font)\n",
    "        img.save('D:/Kody/data/pred_check_ben/o/'+im_dir.split('\\\\')[-1]) #save modified file\n",
    "        #os.unlink(dir_mod+'mal/'+im_dir.split('\\\\')[-1]) # delete orginal modified file\n"
   ]
  },
  {
   "cell_type": "code",
   "execution_count": null,
   "metadata": {},
   "outputs": [],
   "source": []
  }
 ],
 "metadata": {
  "kernelspec": {
   "display_name": "Python 3",
   "language": "python",
   "name": "python3"
  },
  "language_info": {
   "codemirror_mode": {
    "name": "ipython",
    "version": 3
   },
   "file_extension": ".py",
   "mimetype": "text/x-python",
   "name": "python",
   "nbconvert_exporter": "python",
   "pygments_lexer": "ipython3",
   "version": "3.5.5"
  }
 },
 "nbformat": 4,
 "nbformat_minor": 2
}
