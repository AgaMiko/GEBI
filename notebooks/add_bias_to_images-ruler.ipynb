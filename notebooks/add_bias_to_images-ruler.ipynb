{
 "cells": [
  {
   "cell_type": "markdown",
   "metadata": {},
   "source": [
    "# Add bias to images\n",
    "This files adds bias to randomly selected images by applying text to 10% of images (88 images)\n",
    "* adding text in up-left corner\n",
    "* adding text in down-left corner\n",
    "* adding text in up-right corner\n",
    "* adding text in down-right corner"
   ]
  },
  {
   "cell_type": "code",
   "execution_count": 1,
   "metadata": {},
   "outputs": [],
   "source": [
    "from PIL import Image\n",
    "from PIL import ImageFont\n",
    "from PIL import ImageDraw \n",
    "import glob\n",
    "import random"
   ]
  },
  {
   "cell_type": "code",
   "execution_count": 4,
   "metadata": {},
   "outputs": [],
   "source": [
    "random.seed(2020)\n",
    "dir_mod='D:/Kody/data/skin_lesions/train/'\n",
    "to_be_moved = random.sample(glob.glob(dir_mod+'ben/'+\"*.jpg\"), 884)\n"
   ]
  },
  {
   "cell_type": "code",
   "execution_count": null,
   "metadata": {},
   "outputs": [],
   "source": []
  },
  {
   "cell_type": "code",
   "execution_count": 5,
   "metadata": {},
   "outputs": [],
   "source": [
    "import os\n",
    "i=0\n",
    "\n",
    "for im_dir in glob.glob('D:/Kody/data/skin_lesions/train/ben/*.jpg'):\n",
    "    if im_dir in to_be_moved:\n",
    "        img = Image.open(im_dir)\n",
    "       # img.save('D:/Kody/data/skin_lesions_modified/bez-o/'+im_dir.split('\\\\')[-1]) #save modified file\n",
    "        ruler = Image.open('D:/Kody/data/ruler.png')\n",
    "        draw = ImageDraw.Draw(img)\n",
    "        font = ImageFont.truetype(\"arial.ttf\", 48)\n",
    "        #rsize=random.randrange(60, 100)\n",
    "        ruler=ruler.rotate(random.randrange(-30, 60))\n",
    "        pos=((random.randrange (-30, 60, 1),random.randrange (140, 220, 1)))\n",
    "        img.paste(ruler,pos,ruler)\n",
    "        img.save('D:/Kody/data/pred_check_ben/ruler/'+im_dir.split('\\\\')[-1]) #save modified file\n",
    "\n"
   ]
  },
  {
   "cell_type": "code",
   "execution_count": null,
   "metadata": {},
   "outputs": [],
   "source": []
  }
 ],
 "metadata": {
  "kernelspec": {
   "display_name": "Python 3",
   "language": "python",
   "name": "python3"
  },
  "language_info": {
   "codemirror_mode": {
    "name": "ipython",
    "version": 3
   },
   "file_extension": ".py",
   "mimetype": "text/x-python",
   "name": "python",
   "nbconvert_exporter": "python",
   "pygments_lexer": "ipython3",
   "version": "3.5.5"
  }
 },
 "nbformat": 4,
 "nbformat_minor": 2
}
