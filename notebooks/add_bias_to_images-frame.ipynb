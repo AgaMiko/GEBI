{
 "cells": [
  {
   "cell_type": "markdown",
   "metadata": {},
   "source": [
    "# Add bias to images\n",
    "This files adds bias to randomly selected images by applying text to 10% of images (88 images)\n",
    "* adding text in up-left corner\n",
    "* adding text in down-left corner\n",
    "* adding text in up-right corner\n",
    "* adding text in down-right corner"
   ]
  },
  {
   "cell_type": "code",
   "execution_count": 4,
   "metadata": {},
   "outputs": [],
   "source": [
    "from PIL import Image\n",
    "from PIL import ImageFont\n",
    "from PIL import ImageDraw \n",
    "import glob\n",
    "import random"
   ]
  },
  {
   "cell_type": "code",
   "execution_count": 5,
   "metadata": {},
   "outputs": [],
   "source": [
    "random.seed(2020)\n",
    "dir_mod='D:/Kody/data/skin_lesions/train/'\n",
    "to_be_moved = random.sample(glob.glob(dir_mod+'ben/'+\"*.jpg\"), 884)\n"
   ]
  },
  {
   "cell_type": "code",
   "execution_count": 6,
   "metadata": {},
   "outputs": [],
   "source": [
    "import os\n",
    "i=0\n",
    "frame = Image.open('D:/Kody/data/frame.png')\n",
    "frame=frame.resize((224,224), Image.ANTIALIAS)\n",
    "pos=(0,0)\n",
    "for im_dir in glob.glob('D:/Kody/data/skin_lesions/train/ben/*.jpg'):\n",
    "    if im_dir in to_be_moved:\n",
    "        img = Image.open(im_dir)\n",
    "        img.paste(frame,pos,frame)\n",
    "        img.save('D:/Kody/data/pred_check_ben/frame/'+im_dir.split('\\\\')[-1]) #save modified file\n",
    "\n"
   ]
  },
  {
   "cell_type": "code",
   "execution_count": null,
   "metadata": {},
   "outputs": [],
   "source": []
  }
 ],
 "metadata": {
  "kernelspec": {
   "display_name": "Python 3",
   "language": "python",
   "name": "python3"
  },
  "language_info": {
   "codemirror_mode": {
    "name": "ipython",
    "version": 3
   },
   "file_extension": ".py",
   "mimetype": "text/x-python",
   "name": "python",
   "nbconvert_exporter": "python",
   "pygments_lexer": "ipython3",
   "version": "3.7.3"
  }
 },
 "nbformat": 4,
 "nbformat_minor": 2
}
