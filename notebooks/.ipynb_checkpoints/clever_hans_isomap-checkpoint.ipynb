{
 "cells": [
  {
   "cell_type": "code",
   "execution_count": null,
   "metadata": {},
   "outputs": [],
   "source": [
    "%matplotlib inline"
   ]
  },
  {
   "cell_type": "code",
   "execution_count": null,
   "metadata": {},
   "outputs": [],
   "source": [
    "print(__doc__)\n",
    "\n",
    "import numpy as np\n",
    "import skimage\n",
    "from distutils.version import LooseVersion\n",
    "import matplotlib.pyplot as plt\n"
   ]
  },
  {
   "cell_type": "code",
   "execution_count": null,
   "metadata": {},
   "outputs": [],
   "source": [
    "# find all of the files in the directory\n",
    "from PIL import Image\n",
    "import os\n",
    "\n",
    "hlist=[]\n",
    "ilist=[]\n",
    "\n",
    "folders=[\"../data/skin_lesions/h-mal/\", \"../data/skin_lesions/org-mal/\"]\n",
    "lists=[hlist,ilist]\n",
    "for folder, filelist in zip(folders, lists):\n",
    "    for root, dirs, files in os.walk(folder):\n",
    "        for file in files:\n",
    "            if file.endswith(\".png\"):\n",
    "                filelist.append(os.path.join(root, file))\n",
    "                \n",
    "print('Found ', len(hlist),' heatmap files.')\n",
    "print('Found ', len(ilist),' org files.')\n"
   ]
  },
  {
   "cell_type": "code",
   "execution_count": null,
   "metadata": {},
   "outputs": [],
   "source": [
    "from scipy.ndimage.filters import gaussian_filter\n",
    "from skimage.transform import rescale\n",
    "from sklearn.feature_extraction import image\n",
    "\n",
    "heatmaps=[]\n",
    "images=[]\n",
    "\n",
    "# loading images\n",
    "datasets = [heatmaps, images]\n",
    "for files,dataset in zip(lists,datasets):\n",
    "    for file in files:\n",
    "        np_image=[]\n",
    "        np_image = np.array(Image.open(file))\n",
    "        smoothened_heatmap = gaussian_filter(np_image, sigma=3.5)\n",
    "        rescaled_heatmap = rescale(smoothened_heatmap, 0.4, mode=\"reflect\")\n",
    "        rescaled_heatmap=rescaled_heatmap[:,:,0]\n",
    "        #print(rescaled_heatmap.shape)\n",
    "        dataset.append(rescaled_heatmap.reshape(90*90))\n",
    "\n",
    "\n",
    "print('Loaded ', len(heatmaps),' heatmaps.')\n",
    "print(heatmaps[1].shape)\n",
    "print('Loaded ', len(images),' images.')    \n",
    "plt.imshow(rescaled_heatmap)"
   ]
  },
  {
   "cell_type": "markdown",
   "metadata": {},
   "source": [
    "Visualize the resulting regions\n",
    "\n"
   ]
  },
  {
   "cell_type": "code",
   "execution_count": null,
   "metadata": {
    "scrolled": true
   },
   "outputs": [],
   "source": [
    "from sklearn.manifold import Isomap\n",
    "from mpl_toolkits.mplot3d import Axes3D\n",
    "\n",
    "isomap = Isomap(n_neighbors=3,n_components=8,eigen_solver='arpack',path_method='FW', neighbors_algorithm='brute')\n",
    "X_isomap= isomap.fit_transform(heatmaps)\n",
    "print(X_isomap.shape)\n",
    "\n",
    "fig=plt.figure(figsize=(15, 8))\n",
    "ax = Axes3D(fig)\n",
    "ax.scatter(X_isomap[:,0],X_isomap[:,1],X_isomap[:,2])\n",
    "\n",
    "plt.show() \n"
   ]
  },
  {
   "cell_type": "code",
   "execution_count": null,
   "metadata": {
    "scrolled": false
   },
   "outputs": [],
   "source": [
    "from sklearn.cluster import KMeans\n",
    "\n",
    "N_CLUSTERS = 3\n",
    "kmeans = KMeans(n_clusters=N_CLUSTERS, random_state=0).fit(X_isomap)\n",
    "labels = kmeans.predict(X_isomap)\n",
    "\n",
    "\n",
    "print(labels.shape, X_isomap.shape)\n",
    "fig=plt.figure(figsize=(15, 8))\n",
    "ax = Axes3D(fig)\n",
    "\n",
    "for cluster in range(0,N_CLUSTERS):\n",
    "    ax.scatter(X_isomap[labels==cluster,0],X_isomap[labels==cluster,1],X_isomap[labels==cluster,2])\n",
    "\n",
    "fig=plt.figure(figsize=(15, 8))\n",
    "ax = Axes3D(fig)\n",
    "\n",
    "for cluster in range(0,N_CLUSTERS):\n",
    "    ax.scatter(X_isomap[labels==cluster,0],X_isomap[labels==cluster,4],X_isomap[labels==cluster,9])\n",
    "plt.show()\n",
    "\n",
    "    "
   ]
  },
  {
   "cell_type": "code",
   "execution_count": null,
   "metadata": {},
   "outputs": [],
   "source": [
    "isomap = Isomap(n_neighbors=4,n_components=3,eigen_solver='arpack',path_method='FW', neighbors_algorithm='brute')\n",
    "images_isomap= isomap.fit_transform(images)\n",
    "print(images_isomap.shape)\n",
    "\n",
    "fig=plt.figure(figsize=(15, 8))\n",
    "ax = Axes3D(fig)\n",
    "ax.scatter(images_isomap[:,0],images_isomap[:,1],images_isomap[:,2])\n",
    "\n",
    "plt.show() \n",
    "\n",
    "N_CLUSTERS = 3\n",
    "kmeans = KMeans(n_clusters=N_CLUSTERS, random_state=0).fit(images_isomap)\n",
    "labels = kmeans.predict(images_isomap)\n",
    "\n",
    "\n",
    "print(labels.shape, images_isomap.shape)\n",
    "fig=plt.figure(figsize=(15, 8))\n",
    "ax = Axes3D(fig)\n",
    "\n",
    "for cluster in range(0,N_CLUSTERS):\n",
    "    ax.scatter(images_isomap[labels==cluster,0],images_isomap[labels==cluster,1],images_isomap[labels==cluster,2])\n",
    "\n",
    "plt.show()\n",
    "\n",
    "    "
   ]
  },
  {
   "cell_type": "code",
   "execution_count": null,
   "metadata": {},
   "outputs": [],
   "source": [
    "# both heatmaps and images\n",
    "N_CLUSTERS = 8\n",
    "isomap=[]\n",
    "isomap=np.concatenate((images_isomap,X_isomap), axis=1)\n",
    "print(isomap.shape)\n",
    "kmeans = KMeans(n_clusters=N_CLUSTERS, random_state=0).fit(isomap)\n",
    "labels = kmeans.predict(isomap)\n",
    "\n",
    "\n",
    "fig=plt.figure(figsize=(15, 8))\n",
    "ax = Axes3D(fig)\n",
    "\n",
    "for cluster in range(0,N_CLUSTERS):\n",
    "    ax.scatter(isomap[labels==cluster,0],isomap[labels==cluster,1],isomap[labels==cluster,2])\n",
    "\n",
    "plt.show()\n"
   ]
  },
  {
   "cell_type": "code",
   "execution_count": null,
   "metadata": {},
   "outputs": [],
   "source": [
    "from shutil import copy2\n",
    "\n",
    "for label, image in zip(labels, ilist):\n",
    "    directory = \"../experiments/heatmaps/\" + str(label)\n",
    "    if not os.path.exists(directory):\n",
    "        os.makedirs(directory)\n",
    "    copy2(image, directory)\n"
   ]
  },
  {
   "cell_type": "code",
   "execution_count": null,
   "metadata": {},
   "outputs": [],
   "source": []
  }
 ],
 "metadata": {
  "kernelspec": {
   "display_name": "Python 3",
   "language": "python",
   "name": "python3"
  },
  "language_info": {
   "codemirror_mode": {
    "name": "ipython",
    "version": 3
   },
   "file_extension": ".py",
   "mimetype": "text/x-python",
   "name": "python",
   "nbconvert_exporter": "python",
   "pygments_lexer": "ipython3",
   "version": "3.7.3"
  }
 },
 "nbformat": 4,
 "nbformat_minor": 1
}
